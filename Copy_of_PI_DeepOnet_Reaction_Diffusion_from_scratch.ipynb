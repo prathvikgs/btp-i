{
  "cells": [
    {
      "cell_type": "markdown",
      "id": "d2b4c680",
      "metadata": {
        "id": "d2b4c680"
      },
      "source": [
        "# PI-Deeponet"
      ]
    },
    {
      "cell_type": "markdown",
      "id": "33cc34e7",
      "metadata": {
        "id": "33cc34e7"
      },
      "source": [
        "$$\\frac{\\partial s}{\\partial t} = D_{coeff}\\frac{\\partial^2 s}{\\partial x^2} + K_{coeff}s^2 + u(x)$$\\\n",
        "$$**s(x,0) = 0**$$\n",
        "boundary condition : periodic\\\n",
        "domain : x = [0,1] and  t = [0,1]"
      ]
    },
    {
      "cell_type": "code",
      "execution_count": 1,
      "id": "ab56da64",
      "metadata": {
        "id": "ab56da64"
      },
      "outputs": [],
      "source": [
        "import numpy as np\n",
        "import tensorflow as tf\n",
        "import matplotlib.pyplot as plt\n",
        "from tensorflow.keras.layers import Input, Dense, concatenate, Lambda\n",
        "from tensorflow.keras.utils import to_categorical\n",
        "import scipy.io\n",
        "import time as time_lib\n",
        "import scipy.optimize\n",
        "from scipy.fft import fft, ifft\n",
        "from scipy.integrate import odeint"
      ]
    },
    {
      "cell_type": "code",
      "execution_count": 2,
      "id": "f376eaf2",
      "metadata": {
        "id": "f376eaf2"
      },
      "outputs": [],
      "source": [
        "n_functions=20 #no of functions\n",
        "n_sensors=100 #no of sensor points\n",
        "\n",
        "lb_A=-1 #lowerbound of coefficient\n",
        "ub_A=1 #upperbound of coefficient\n",
        "L=1\n",
        "nx = 60 # no of grid points for x\n",
        "nt = 60 # no of grid points for t\n",
        "\n",
        "n_bdr=800\n",
        "n_train=nx*nt\n",
        "\n",
        "# domain\n",
        "x_0=0\n",
        "x_l=1\n",
        "t_0=0\n",
        "t_l=1\n",
        "\n",
        "#for trunck-inside points\n",
        "x=np.linspace(x_0,x_l,nx)\n",
        "t=np.linspace(t_0,t_l,nt)\n",
        "\n",
        "#boundary points\n",
        "x_bdr=np.random.rand(n_bdr)\n",
        "t_bdr=np.zeros(n_bdr)\n",
        "\n",
        "#for trunck\n",
        "x_sensor=np.linspace(0,1,n_sensors)\n",
        "\n",
        "t=np.reshape(t,(len(t),1))\n",
        "x=np.reshape(x,(len(x),1))\n",
        "\n",
        "x_eval,t_eval = np.meshgrid(x,t)\n",
        "\n",
        "x_eval=np.reshape(x_eval,-1)\n",
        "t_eval=np.reshape(t_eval,-1)\n",
        "x_bdr=np.reshape(x_bdr,-1)\n",
        "t_bdr=np.reshape(t_bdr,-1)\n",
        "\n",
        "y=np.concatenate([x_eval[:, None], t_eval[:, None]],axis=1)\n",
        "y_bdr=np.concatenate([x_bdr[:, None], t_bdr[:, None]],axis=1)\n",
        "\n",
        "A=np.random.rand(n_functions)\n",
        "B=np.random.rand(n_functions)\n",
        "\n",
        "D_coeff  = 0.01 # constant in PDE\n",
        "K_coeff = 0.01 # constant in PDE\n",
        "\n",
        "#functions\n",
        "def fn(A,B,x):\n",
        "    return np.cos(2*np.pi*A*x)+np.sin(2*np.pi*B*x)+A*np.e**(-A*x)-B*np.e**(B*x)+np.log(1+A)+B*A*np.log(1+A*B)\n",
        "#DNS\n",
        "def sol_reaction_diff(u,t,K_coeff,D_coeff):\n",
        "\n",
        "    s_0 = u*0.0\n",
        "\n",
        "    def rhsf(s, t):\n",
        "        N = len(s)\n",
        "        n = np.arange(N); n[int(N/2)+1:]-= N\n",
        "        return K_coeff*s**2 - D_coeff*ifft((2*np.pi*n/L)**2*fft(s)).real + u\n",
        "\n",
        "    sol = odeint(rhsf, s_0, t)\n",
        "\n",
        "    return sol\n",
        "\n",
        "f=[]\n",
        "for i in range(n_functions):\n",
        "    f.append(fn(A[i],B[i],x_sensor))\n",
        "\n",
        "f=np.array(f)"
      ]
    },
    {
      "cell_type": "code",
      "execution_count": 3,
      "id": "f21bb263",
      "metadata": {
        "colab": {
          "base_uri": "https://localhost:8080/"
        },
        "id": "f21bb263",
        "outputId": "de484dce-7dbe-4cb7-b38e-fa7a3e5a2835"
      },
      "outputs": [
        {
          "output_type": "execute_result",
          "data": {
            "text/plain": [
              "(20, 100)"
            ]
          },
          "metadata": {},
          "execution_count": 3
        }
      ],
      "source": [
        "f.shape"
      ]
    },
    {
      "cell_type": "code",
      "execution_count": 4,
      "id": "d7437774",
      "metadata": {
        "id": "d7437774"
      },
      "outputs": [],
      "source": [
        "#create X_train\n",
        "\n",
        "#x_branch and x_branch to train\n",
        "X_train_branch=[]\n",
        "X_train_trunck=[]\n",
        "A_train=[]\n",
        "B_train=[]\n",
        "\n",
        "for i in range(n_functions):\n",
        "    for j in range(n_train):\n",
        "        X_train_branch.append(f[i])\n",
        "        X_train_trunck.append(y[j])\n",
        "\n",
        "        A_train.append(A[i])\n",
        "        B_train.append(B[i])\n",
        "\n",
        "X_train_branch=np.array(X_train_branch)\n",
        "X_train_trunck=np.array(X_train_trunck)\n",
        "\n",
        "A_train=np.array(A_train)\n",
        "B_train=np.array(B_train)\n",
        "\n",
        "#create X_train for boundary\n",
        "\n",
        "#x_branch and x_branch to train\n",
        "X_train_branch_bdr=[]\n",
        "X_train_trunck_bdr=[]\n",
        "A_train_bdr=[]\n",
        "B_train_bdr=[]\n",
        "\n",
        "for i in range(n_functions):\n",
        "    for j in range(n_bdr):\n",
        "        X_train_branch_bdr.append(f[i])\n",
        "        X_train_trunck_bdr.append(y_bdr[j])\n",
        "\n",
        "        A_train_bdr.append(A[i])\n",
        "        B_train_bdr.append(B[i])\n",
        "\n",
        "X_train_branch_bdr=np.array(X_train_branch_bdr)\n",
        "X_train_trunck_bdr=np.array(X_train_trunck_bdr)\n",
        "\n",
        "A_train_bdr=np.array(A_train_bdr)\n",
        "B_train_bdr=np.array(B_train_bdr)"
      ]
    },
    {
      "cell_type": "code",
      "execution_count": 5,
      "id": "dc894f27",
      "metadata": {
        "id": "dc894f27"
      },
      "outputs": [],
      "source": [
        "X_train_br=tf.convert_to_tensor(X_train_branch, dtype=tf.float32, dtype_hint=None, name=None)\n",
        "X_train_tr=tf.convert_to_tensor(X_train_trunck, dtype=tf.float32, dtype_hint=None, name=None)\n",
        "A_train=tf.convert_to_tensor(A_train, dtype=tf.float32, dtype_hint=None, name=None)\n",
        "B_train=tf.convert_to_tensor(B_train, dtype=tf.float32, dtype_hint=None, name=None)\n",
        "\n",
        "X_train_br_bdr=tf.convert_to_tensor(X_train_branch_bdr, dtype=tf.float32, dtype_hint=None, name=None)\n",
        "X_train_tr_bdr=tf.convert_to_tensor(X_train_trunck_bdr, dtype=tf.float32, dtype_hint=None, name=None)\n",
        "A_train_bdr=tf.convert_to_tensor(A_train_bdr, dtype=tf.float32, dtype_hint=None, name=None)\n",
        "B_train_bdr=tf.convert_to_tensor(B_train_bdr, dtype=tf.float32, dtype_hint=None, name=None)"
      ]
    },
    {
      "cell_type": "code",
      "execution_count": 6,
      "id": "249322ef",
      "metadata": {
        "id": "249322ef"
      },
      "outputs": [],
      "source": [
        "dataset = tf.data.Dataset.from_tensor_slices((X_train_br, X_train_tr, A_train,B_train))\n",
        "dataset_bdr=tf.data.Dataset.from_tensor_slices((X_train_br_bdr, X_train_tr_bdr, A_train_bdr,B_train_bdr))\n",
        "\n",
        "batch_size = 10000  # Adjust this based on needs\n",
        "batch_size_bdr = 2000\n",
        "\n",
        "dataset = dataset.batch(batch_size)\n",
        "dataset_bdr = dataset_bdr.batch(batch_size_bdr)"
      ]
    },
    {
      "cell_type": "code",
      "execution_count": 7,
      "id": "b73037e1",
      "metadata": {
        "id": "b73037e1"
      },
      "outputs": [],
      "source": [
        "# Define the optimizer\n",
        "optimizer = tf.keras.optimizers.Adam()\n",
        "tf.keras.backend.set_floatx('float32')\n",
        "\n",
        "#model for deepOnet###########################################################\n",
        "\n",
        "#no of sensor points\n",
        "m=n_sensors\n",
        "branch_input = Input(shape=(m,), name='vector_input')\n",
        "trunck_input = Input(shape=(2,), name='scalar_input')\n",
        "\n",
        "#branch network\n",
        "branch_net = Dense(128, activation='tanh')(branch_input)\n",
        "branch_net = Dense(128, activation='tanh')(branch_net)\n",
        "branch_net = Dense(128, activation='tanh')(branch_net)\n",
        "branch_net = Dense(128, activation='tanh')(branch_net)\n",
        "branch_net = Dense(128, activation='tanh')(branch_net)\n",
        "branch_net = Dense(128, activation='tanh')(branch_net)\n",
        "branch_net = Dense(m, activation='tanh')(branch_net)\n",
        "\n",
        "# Trunck network\n",
        "trunck_net = Dense(128, activation='tanh')(trunck_input)\n",
        "trunck_net = Dense(128, activation='tanh')(trunck_net)\n",
        "trunck_net = Dense(128, activation='tanh')(trunck_net)\n",
        "trunck_net = Dense(128, activation='tanh')(trunck_net)\n",
        "trunck_net = Dense(128, activation='tanh')(trunck_net)\n",
        "trunck_net = Dense(128, activation='tanh')(trunck_net)\n",
        "trunck_net = Dense(m, activation='tanh')(trunck_net)\n",
        "#bias = tf.Variable(0., shape=(), trainable=True)\n",
        "\n",
        "dot_product = Lambda(lambda x: tf.reduce_sum(x[0] * x[1], axis=1, keepdims=True))([branch_net, trunck_net])\n",
        "model = tf.keras.Model(inputs=[branch_input, trunck_input], outputs=dot_product)\n",
        "\n",
        "###############################################################################\n",
        "\n",
        "def loss(X_br,X_tr,A,B):\n",
        "    with tf.GradientTape(persistent=True) as tape:\n",
        "\n",
        "            x,t=tf.unstack(X_tr,axis=1)\n",
        "            tape.watch(x)\n",
        "            tape.watch(t)\n",
        "\n",
        "            s = model([X_br, tf.stack((x,t),axis=1)], training=True)\n",
        "            dsdx=tape.gradient(s,x)\n",
        "            d2sdx2=tape.gradient(dsdx,x)\n",
        "\n",
        "            dsdt=tape.gradient(s,t)\n",
        "            u=fn(A,B,x)\n",
        "\n",
        "            loss = tf.reduce_mean(tf.square(dsdt-D_coeff*d2sdx2-K_coeff*tf.square(s)-u))\n",
        "\n",
        "    return loss\n",
        "\n",
        "def loss_bdr(X_br,X_tr,A,B):\n",
        "    with tf.GradientTape(persistent=True) as tape:\n",
        "\n",
        "            x,t=tf.unstack(X_tr,axis=1)\n",
        "            tape.watch(x)\n",
        "            tape.watch(t)\n",
        "\n",
        "            s = model([X_br, tf.stack((x,t),axis=1)], training=True)\n",
        "            dsdx=tape.gradient(s,x)\n",
        "            d2sdx2=tape.gradient(dsdx,x)\n",
        "\n",
        "            dsdt=tape.gradient(s,t)\n",
        "            u=fn(A,B,x)\n",
        "\n",
        "            loss2=tf.reduce_mean(tf.square(s))#initial loss\n",
        "            loss = tf.reduce_mean(tf.square(dsdt-D_coeff*d2sdx2-K_coeff*tf.square(s)-u))#equation loss\n",
        "\n",
        "    return loss+loss2"
      ]
    },
    {
      "cell_type": "code",
      "execution_count": 8,
      "id": "f8fe8657",
      "metadata": {
        "colab": {
          "base_uri": "https://localhost:8080/"
        },
        "id": "f8fe8657",
        "outputId": "f6c41b22-cb17-4335-a732-385a32b5072c"
      },
      "outputs": [
        {
          "output_type": "stream",
          "name": "stderr",
          "text": [
            "WARNING:tensorflow:Calling GradientTape.gradient on a persistent tape inside its context is significantly less efficient than calling it outside the context (it causes the gradient ops to be recorded on the tape, leading to increased CPU and memory usage). Only call GradientTape.gradient inside the context if you actually want to trace the gradient in order to compute higher order derivatives.\n",
            "WARNING:tensorflow:Calling GradientTape.gradient on a persistent tape inside its context is significantly less efficient than calling it outside the context (it causes the gradient ops to be recorded on the tape, leading to increased CPU and memory usage). Only call GradientTape.gradient inside the context if you actually want to trace the gradient in order to compute higher order derivatives.\n",
            "WARNING:tensorflow:Calling GradientTape.gradient on a persistent tape inside its context is significantly less efficient than calling it outside the context (it causes the gradient ops to be recorded on the tape, leading to increased CPU and memory usage). Only call GradientTape.gradient inside the context if you actually want to trace the gradient in order to compute higher order derivatives.\n",
            "WARNING:tensorflow:5 out of the last 5 calls to <function _BaseOptimizer._update_step_xla at 0x7e30d56e7760> triggered tf.function retracing. Tracing is expensive and the excessive number of tracings could be due to (1) creating @tf.function repeatedly in a loop, (2) passing tensors with different shapes, (3) passing Python objects instead of tensors. For (1), please define your @tf.function outside of the loop. For (2), @tf.function has reduce_retracing=True option that can avoid unnecessary retracing. For (3), please refer to https://www.tensorflow.org/guide/function#controlling_retracing and https://www.tensorflow.org/api_docs/python/tf/function for  more details.\n",
            "WARNING:tensorflow:6 out of the last 6 calls to <function _BaseOptimizer._update_step_xla at 0x7e30d56e7760> triggered tf.function retracing. Tracing is expensive and the excessive number of tracings could be due to (1) creating @tf.function repeatedly in a loop, (2) passing tensors with different shapes, (3) passing Python objects instead of tensors. For (1), please define your @tf.function outside of the loop. For (2), @tf.function has reduce_retracing=True option that can avoid unnecessary retracing. For (3), please refer to https://www.tensorflow.org/guide/function#controlling_retracing and https://www.tensorflow.org/api_docs/python/tf/function for  more details.\n",
            "WARNING:tensorflow:Calling GradientTape.gradient on a persistent tape inside its context is significantly less efficient than calling it outside the context (it causes the gradient ops to be recorded on the tape, leading to increased CPU and memory usage). Only call GradientTape.gradient inside the context if you actually want to trace the gradient in order to compute higher order derivatives.\n",
            "WARNING:tensorflow:Calling GradientTape.gradient on a persistent tape inside its context is significantly less efficient than calling it outside the context (it causes the gradient ops to be recorded on the tape, leading to increased CPU and memory usage). Only call GradientTape.gradient inside the context if you actually want to trace the gradient in order to compute higher order derivatives.\n",
            "WARNING:tensorflow:Calling GradientTape.gradient on a persistent tape inside its context is significantly less efficient than calling it outside the context (it causes the gradient ops to be recorded on the tape, leading to increased CPU and memory usage). Only call GradientTape.gradient inside the context if you actually want to trace the gradient in order to compute higher order derivatives.\n"
          ]
        },
        {
          "output_type": "stream",
          "name": "stdout",
          "text": [
            "Epoch 0, loss=0.970566\n",
            "Epoch 5, loss=0.060050\n",
            "Epoch 10, loss=0.104304\n",
            "Epoch 15, loss=0.020262\n",
            "Epoch 20, loss=0.018237\n",
            "Epoch 25, loss=0.016808\n",
            "Epoch 30, loss=0.015678\n",
            "Epoch 35, loss=0.013875\n",
            "Epoch 40, loss=0.012029\n",
            "Epoch 45, loss=0.014469\n",
            "Epoch 50, loss=0.021325\n",
            "Epoch 55, loss=0.022179\n",
            "Epoch 60, loss=0.091471\n",
            "Epoch 65, loss=0.031168\n",
            "Epoch 70, loss=0.019222\n",
            "Epoch 75, loss=0.010667\n",
            "Epoch 80, loss=0.027223\n",
            "Epoch 85, loss=0.020457\n",
            "Epoch 90, loss=0.008733\n",
            "Epoch 95, loss=0.011006\n",
            "Epoch 100, loss=0.006200\n",
            "Epoch 105, loss=0.006816\n",
            "Epoch 110, loss=0.006744\n",
            "Epoch 115, loss=0.006072\n",
            "Epoch 120, loss=0.007466\n",
            "Epoch 125, loss=0.005299\n",
            "Epoch 130, loss=0.004686\n",
            "Epoch 135, loss=0.004212\n",
            "Epoch 140, loss=0.004255\n",
            "Epoch 145, loss=0.004141\n",
            "Epoch 150, loss=0.003898\n",
            "Epoch 155, loss=0.003832\n",
            "Epoch 160, loss=0.003684\n",
            "Epoch 165, loss=0.003642\n",
            "Epoch 170, loss=0.003560\n",
            "Epoch 175, loss=0.003511\n",
            "Epoch 180, loss=0.003451\n",
            "Epoch 185, loss=0.003404\n",
            "Epoch 190, loss=0.003356\n",
            "Epoch 195, loss=0.003314\n",
            "Epoch 200, loss=0.003274\n",
            "Epoch 205, loss=0.003237\n",
            "Epoch 210, loss=0.003202\n",
            "Epoch 215, loss=0.003169\n",
            "Epoch 220, loss=0.003139\n",
            "Epoch 225, loss=0.003110\n",
            "Epoch 230, loss=0.003083\n",
            "Epoch 235, loss=0.003058\n",
            "Epoch 240, loss=0.003034\n",
            "Epoch 245, loss=0.003012\n",
            "Epoch 250, loss=0.002991\n",
            "Epoch 255, loss=0.002971\n",
            "Epoch 260, loss=0.002953\n",
            "Epoch 265, loss=0.002935\n",
            "Epoch 270, loss=0.002919\n",
            "Epoch 275, loss=0.002903\n",
            "Epoch 280, loss=0.002889\n",
            "Epoch 285, loss=0.002875\n",
            "Epoch 290, loss=0.002862\n",
            "Epoch 295, loss=0.002850\n",
            "Epoch 300, loss=0.002838\n",
            "Epoch 305, loss=0.002828\n",
            "Epoch 310, loss=0.002817\n",
            "Epoch 315, loss=0.002808\n",
            "Epoch 320, loss=0.002799\n",
            "Epoch 325, loss=0.002790\n",
            "Epoch 330, loss=0.002782\n",
            "Epoch 335, loss=0.002774\n",
            "Epoch 340, loss=0.002767\n",
            "Epoch 345, loss=0.002760\n",
            "Epoch 350, loss=0.002754\n",
            "Epoch 355, loss=0.002748\n",
            "Epoch 360, loss=0.002742\n",
            "Epoch 365, loss=0.002737\n",
            "Epoch 370, loss=0.002732\n",
            "Epoch 375, loss=0.002727\n",
            "Epoch 380, loss=0.002723\n",
            "Epoch 385, loss=0.002718\n",
            "Epoch 390, loss=0.002714\n",
            "Epoch 395, loss=0.002711\n",
            "Epoch 400, loss=0.002707\n",
            "Epoch 405, loss=0.002704\n",
            "Epoch 410, loss=0.002701\n",
            "Epoch 415, loss=0.002698\n",
            "Epoch 420, loss=0.002695\n",
            "Epoch 425, loss=0.002693\n",
            "Epoch 430, loss=0.002690\n",
            "Epoch 435, loss=0.002688\n",
            "Epoch 440, loss=0.002686\n",
            "Epoch 445, loss=0.002684\n",
            "Epoch 450, loss=0.002682\n",
            "Epoch 455, loss=0.002681\n",
            "Epoch 460, loss=0.002679\n",
            "Epoch 465, loss=0.002677\n",
            "Epoch 470, loss=0.002676\n",
            "Epoch 475, loss=0.002675\n",
            "Epoch 480, loss=0.002674\n",
            "Epoch 485, loss=0.002672\n",
            "Epoch 490, loss=0.002671\n",
            "Epoch 495, loss=0.002670\n"
          ]
        }
      ],
      "source": [
        "# Training loop\n",
        "\n",
        "# Define a learning rate schedule\n",
        "initial_learning_rate = 1e-3\n",
        "lr_schedule = tf.keras.optimizers.schedules.ExponentialDecay(\n",
        "    initial_learning_rate, decay_steps=100, decay_rate=0.9)\n",
        "\n",
        "# Define the optimizer with the learning rate schedule\n",
        "optimizer = tf.keras.optimizers.Adam(learning_rate=lr_schedule)\n",
        "\n",
        "loss_total=[]\n",
        "epochs=[]\n",
        "for epoch in range(500):\n",
        "    for X_br, X_tr, A,B in dataset:\n",
        "        with tf.GradientTape() as tape:\n",
        "\n",
        "            loss_value = loss(X_br,X_tr,A,B)\n",
        "        grads = tape.gradient(loss_value, model.trainable_variables)\n",
        "        optimizer.apply_gradients(zip(grads, model.trainable_variables))\n",
        "\n",
        "    for X_br, X_tr, A,B in dataset_bdr:\n",
        "        with tf.GradientTape() as tape:\n",
        "\n",
        "            loss_value_bdr = loss_bdr(X_br,X_tr,A,B)\n",
        "        grads = tape.gradient(loss_value_bdr, model.trainable_variables)\n",
        "        optimizer.apply_gradients(zip(grads, model.trainable_variables))\n",
        "    loss_total.append(loss_value+loss_value_bdr)\n",
        "    epochs.append(epoch)\n",
        "\n",
        "    if epoch % 5 == 0:\n",
        "        print(f\"Epoch {epoch}, loss={loss_value:.6f}\")"
      ]
    },
    {
      "cell_type": "code",
      "source": [
        "plt.loglog(epochs,loss_total)"
      ],
      "metadata": {
        "colab": {
          "base_uri": "https://localhost:8080/",
          "height": 451
        },
        "id": "l75vMaXgGp08",
        "outputId": "0df9751a-1f2f-4788-c5a2-803fde621d50"
      },
      "id": "l75vMaXgGp08",
      "execution_count": 10,
      "outputs": [
        {
          "output_type": "execute_result",
          "data": {
            "text/plain": [
              "[<matplotlib.lines.Line2D at 0x7e305e3bffd0>]"
            ]
          },
          "metadata": {},
          "execution_count": 10
        },
        {
          "output_type": "display_data",
          "data": {
            "text/plain": [
              "<Figure size 640x480 with 1 Axes>"
            ],
            "image/png": "[encoded data removed]"
          },
          "metadata": {}
        }
      ]
    },
    {
      "cell_type": "code",
      "execution_count": 16,
      "id": "d0b7d9c3",
      "metadata": {
        "id": "d0b7d9c3"
      },
      "outputs": [],
      "source": [
        "#prediction for a-new function, test data prep\n",
        "A_new=np.random.rand()\n",
        "B_new=np.random.rand()\n",
        "X_test_branch=[]\n",
        "X_test_trunck=[]\n",
        "\n",
        "f_new=fn(A_new,B_new,x_sensor)\n",
        "for i in range(1):\n",
        "    for j in range(n_train):\n",
        "        X_test_branch.append(f_new)\n",
        "        X_test_trunck.append(y[j])\n",
        "\n",
        "X_test_branch=np.array(X_test_branch)\n",
        "X_test_trunck=np.array(X_test_trunck)"
      ]
    },
    {
      "cell_type": "code",
      "execution_count": 17,
      "id": "cf111775",
      "metadata": {
        "colab": {
          "base_uri": "https://localhost:8080/",
          "height": 765
        },
        "id": "cf111775",
        "outputId": "0be477a4-6e7a-4a59-ba91-a4c823da747c"
      },
      "outputs": [
        {
          "output_type": "display_data",
          "data": {
            "text/plain": [
              "<Figure size 1600x400 with 2 Axes>"
            ],
            "image/png": "[encoded data removed]"
          },
          "metadata": {}
        },
        {
          "output_type": "display_data",
          "data": {
            "text/plain": [
              "<Figure size 1600x400 with 2 Axes>"
            ],
            "image/png": "[encoded data removed]"
          },
          "metadata": {}
        }
      ],
      "source": [
        "#new unseen function pred\n",
        "s=model([X_test_branch, X_test_trunck])\n",
        "pred=tf.reshape(s,(nx,nt))\n",
        "\n",
        "fig = plt.figure(figsize=(16,4))\n",
        "ax1 = fig.add_subplot(121)\n",
        "ax1.set_title('PI-DeepOnet Prediction')\n",
        "im1 = ax1.imshow(pred,cmap='jet',origin='lower')\n",
        "fig.colorbar(im1, orientation='vertical')\n",
        "\n",
        "#numerical sol for the test function\n",
        "x=np.linspace(0,1,nx)\n",
        "t=np.linspace(0,1,nt)\n",
        "u_inp_fun=fn(A_new,B_new,x)\n",
        "sol_fun =  sol_reaction_diff(u_inp_fun,t,K_coeff,D_coeff)\n",
        "\n",
        "#plot the results\n",
        "fig2 = plt.figure(figsize=(16,4))\n",
        "ax2 = fig2.add_subplot(121)\n",
        "ax2.set_title('Numerical solution')\n",
        "im2 = ax2.imshow(sol_fun,cmap='jet',origin='lower')\n",
        "fig2.colorbar(im2, orientation='vertical')\n",
        "plt.show()"
      ]
    },
    {
      "cell_type": "markdown",
      "source": [
        "Mean Squared error in the solution for a new function"
      ],
      "metadata": {
        "id": "TV62cnJpA-VO"
      },
      "id": "TV62cnJpA-VO"
    },
    {
      "cell_type": "code",
      "source": [
        "np.mean((pred-sol_fun)**2)"
      ],
      "metadata": {
        "colab": {
          "base_uri": "https://localhost:8080/"
        },
        "id": "-Yoedsw6At5L",
        "outputId": "f742df37-c012-4ced-ede3-02582bae0bf2"
      },
      "id": "-Yoedsw6At5L",
      "execution_count": 18,
      "outputs": [
        {
          "output_type": "execute_result",
          "data": {
            "text/plain": [
              "0.0059054545"
            ]
          },
          "metadata": {},
          "execution_count": 18
        }
      ]
    }
  ],
  "metadata": {
    "kernelspec": {
      "display_name": "Python 3",
      "name": "python3"
    },
    "language_info": {
      "codemirror_mode": {
        "name": "ipython",
        "version": 3
      },
      "file_extension": ".py",
      "mimetype": "text/x-python",
      "name": "python",
      "nbconvert_exporter": "python",
      "pygments_lexer": "ipython3",
      "version": "3.9.12"
    },
    "colab": {
      "provenance": [],
      "gpuType": "T4"
    },
    "accelerator": "GPU"
  },
  "nbformat": 4,
  "nbformat_minor": 5
}