{
 "cells": [
  {
   "cell_type": "markdown",
   "id": "d2b4c680",
   "metadata": {},
   "source": [
    "# PI-Deeponet"
   ]
  },
  {
   "cell_type": "markdown",
   "id": "33cc34e7",
   "metadata": {},
   "source": [
    "$$\\frac{\\partial s}{\\partial t} = D_{coeff}\\frac{\\partial^2 s}{\\partial x^2} + K_{coeff}s^2 + u(x)$$\\\n",
    "$$**s(x,0) = 0**$$\n",
    "boundary condition : periodic\\\n",
    "domain : x = [0,1] and  t = [0,1]"
   ]
  },
  {
   "cell_type": "code",
   "execution_count": 2,
   "id": "ab56da64",
   "metadata": {},
   "outputs": [],
   "source": [
    "import numpy as np\n",
    "import tensorflow as tf\n",
    "import matplotlib.pyplot as plt\n",
    "from tensorflow.keras.layers import Input, Dense, concatenate, Lambda\n",
    "from tensorflow.keras.utils import to_categorical"
   ]
  },
  {
   "cell_type": "code",
   "execution_count": 3,
   "id": "f376eaf2",
   "metadata": {},
   "outputs": [],
   "source": [
    "n_functions=2 #no of functions\n",
    "n_sensors=200 #no of sensor points\n",
    "\n",
    "lb_A=-1 #lowerbound of coefficient\n",
    "ub_A=1 #upperbound of coefficient\n",
    "\n",
    "nx = 50 # no of grid points for x\n",
    "nt = 50 # no of grid points for t\n",
    "\n",
    "n_bdr=1000\n",
    "n_train=nx*nt\n",
    "\n",
    "# domain\n",
    "x_0=0\n",
    "x_l=1\n",
    "t_0=0\n",
    "t_l=1\n",
    "\n",
    "#for trunck-inside points\n",
    "x=np.linspace(x_0,x_l,nx)\n",
    "t=np.linspace(t_0,t_l,nt)\n",
    "\n",
    "#boundary points\n",
    "x_bdr=np.random.rand(n_bdr)\n",
    "t_bdr=np.zeros(n_bdr)\n",
    "\n",
    "#for trunck\n",
    "x_sensor=np.linspace(0,1,n_sensors)\n",
    "\n",
    "t=np.reshape(t,(len(t),1))\n",
    "x=np.reshape(x,(len(x),1))\n",
    "\n",
    "x_eval,t_eval = np.meshgrid(x,t)\n",
    "\n",
    "x_eval=np.reshape(x_eval,-1)\n",
    "t_eval=np.reshape(t_eval,-1)\n",
    "x_bdr=np.reshape(x_bdr,-1)\n",
    "t_bdr=np.reshape(t_bdr,-1)\n",
    "\n",
    "y=np.concatenate([x_eval[:, None], t_eval[:, None]],axis=1)\n",
    "y_bdr=np.concatenate([x_bdr[:, None], t_bdr[:, None]],axis=1)\n",
    "\n",
    "A=np.random.rand(n_functions)\n",
    "B=np.random.rand(n_functions)\n",
    "\n",
    "D_coeff  = 0.01 # constant in PDE\n",
    "K_coeff = 0.01 # constant in PDE\n",
    "\n",
    "#functions\n",
    "def fn(A,B,x):\n",
    "    return np.cos(2*np.pi*A*x)+np.sin(2*np.pi*B*x)\n",
    "\n",
    "\n",
    "f=[]\n",
    "for i in range(n_functions):\n",
    "    f.append(fn(A[i],B[i],x_sensor))\n",
    "    \n",
    "f=np.array(f)"
   ]
  },
  {
   "cell_type": "code",
   "execution_count": 4,
   "id": "f21bb263",
   "metadata": {},
   "outputs": [
    {
     "data": {
      "text/plain": [
       "(2, 200)"
      ]
     },
     "execution_count": 4,
     "metadata": {},
     "output_type": "execute_result"
    }
   ],
   "source": [
    "f.shape"
   ]
  },
  {
   "cell_type": "code",
   "execution_count": 5,
   "id": "d7437774",
   "metadata": {},
   "outputs": [],
   "source": [
    "#create X_train\n",
    "\n",
    "#x_branch and x_branch to train\n",
    "X_train_branch=[]\n",
    "X_train_trunck=[]\n",
    "A_train=[]\n",
    "B_train=[]\n",
    "\n",
    "for i in range(n_functions):\n",
    "    for j in range(n_train):\n",
    "        X_train_branch.append(f[i])\n",
    "        X_train_trunck.append(y[j])\n",
    "        \n",
    "        A_train.append(A[i])\n",
    "        B_train.append(B[i])\n",
    "\n",
    "X_train_branch=np.array(X_train_branch)\n",
    "X_train_trunck=np.array(X_train_trunck)\n",
    "\n",
    "A_train=np.array(A_train)\n",
    "B_train=np.array(B_train)\n",
    "\n",
    "#create X_train for boundary\n",
    "\n",
    "#x_branch and x_branch to train\n",
    "X_train_branch_bdr=[]\n",
    "X_train_trunck_bdr=[]\n",
    "A_train_bdr=[]\n",
    "B_train_bdr=[]\n",
    "\n",
    "for i in range(n_functions):\n",
    "    for j in range(n_bdr):\n",
    "        X_train_branch_bdr.append(f[i])\n",
    "        X_train_trunck_bdr.append(y_bdr[j])\n",
    "        \n",
    "        A_train_bdr.append(A[i])\n",
    "        B_train_bdr.append(B[i])\n",
    "\n",
    "X_train_branch_bdr=np.array(X_train_branch_bdr)\n",
    "X_train_trunck_bdr=np.array(X_train_trunck_bdr)\n",
    "\n",
    "A_train_bdr=np.array(A_train_bdr)\n",
    "B_train_bdr=np.array(B_train_bdr)"
   ]
  },
  {
   "cell_type": "code",
   "execution_count": 6,
   "id": "dc894f27",
   "metadata": {},
   "outputs": [],
   "source": [
    "X_train_br=tf.convert_to_tensor(X_train_branch, dtype=tf.float32, dtype_hint=None, name=None)\n",
    "X_train_tr=tf.convert_to_tensor(X_train_trunck, dtype=tf.float32, dtype_hint=None, name=None)\n",
    "A_train=tf.convert_to_tensor(A_train, dtype=tf.float32, dtype_hint=None, name=None)\n",
    "B_train=tf.convert_to_tensor(B_train, dtype=tf.float32, dtype_hint=None, name=None)\n",
    "\n",
    "X_train_br_bdr=tf.convert_to_tensor(X_train_branch_bdr, dtype=tf.float32, dtype_hint=None, name=None)\n",
    "X_train_tr_bdr=tf.convert_to_tensor(X_train_trunck_bdr, dtype=tf.float32, dtype_hint=None, name=None)\n",
    "A_train_bdr=tf.convert_to_tensor(A_train_bdr, dtype=tf.float32, dtype_hint=None, name=None)\n",
    "B_train_bdr=tf.convert_to_tensor(B_train_bdr, dtype=tf.float32, dtype_hint=None, name=None)"
   ]
  },
  {
   "cell_type": "code",
   "execution_count": 16,
   "id": "249322ef",
   "metadata": {},
   "outputs": [],
   "source": [
    "dataset = tf.data.Dataset.from_tensor_slices((X_train_br, X_train_tr, A_train,B_train))\n",
    "dataset_bdr=tf.data.Dataset.from_tensor_slices((X_train_br_bdr, X_train_tr_bdr, A_train_bdr,B_train_bdr))\n",
    "\n",
    "batch_size = 5000  # Adjust this based on your needs\n",
    "batch_size_bdr = 1000\n",
    "\n",
    "dataset = dataset.batch(batch_size)\n",
    "dataset_bdr = dataset_bdr.batch(batch_size_bdr)"
   ]
  },
  {
   "cell_type": "code",
   "execution_count": 17,
   "id": "b73037e1",
   "metadata": {},
   "outputs": [
    {
     "name": "stdout",
     "output_type": "stream",
     "text": [
      "WARNING:tensorflow:The following Variables were used in a Lambda layer's call (tf.__operators__.add_1), but are not present in its tracked objects:   <tf.Variable 'Variable:0' shape=() dtype=float32>. This is a strong indication that the Lambda layer should be rewritten as a subclassed Layer.\n"
     ]
    }
   ],
   "source": [
    "# Define the optimizer\n",
    "optimizer = tf.keras.optimizers.Adam()\n",
    "tf.keras.backend.set_floatx('float32')\n",
    "\n",
    "#model for deepOnet###########################################################\n",
    "\n",
    "#no of sensor points\n",
    "m=n_sensors\n",
    "branch_input = Input(shape=(m,), name='vector_input')\n",
    "trunck_input = Input(shape=(2,), name='scalar_input')\n",
    "\n",
    "#branch network\n",
    "branch_net = Dense(128, activation='tanh')(branch_input)\n",
    "branch_net = Dense(128, activation='tanh')(branch_net)\n",
    "branch_net = Dense(128, activation='tanh')(branch_net)\n",
    "branch_net = Dense(128, activation='tanh')(branch_net)\n",
    "branch_net = Dense(m, activation='tanh')(branch_net)\n",
    "\n",
    "# Trunck network\n",
    "trunck_net = Dense(128, activation='tanh')(trunck_input)\n",
    "trunck_net = Dense(128, activation='tanh')(trunck_net)\n",
    "trunck_net = Dense(128, activation='tanh')(trunck_net)\n",
    "trunck_net = Dense(128, activation='tanh')(trunck_net)\n",
    "trunck_net = Dense(m, activation='tanh')(trunck_net)\n",
    "bias = tf.Variable(0., shape=(), trainable=True) \n",
    "\n",
    "dot_product = Lambda(lambda x: tf.reduce_sum(x[0] * x[1], axis=1, keepdims=True))([branch_net, trunck_net])\n",
    "model = tf.keras.Model(inputs=[branch_input, trunck_input], outputs=dot_product+bias)\n",
    "\n",
    "###############################################################################\n",
    "\n",
    "def loss(X_br,X_tr,A,B):\n",
    "    with tf.GradientTape(persistent=True) as tape:\n",
    "            \n",
    "            x,t=tf.unstack(X_tr,axis=1)\n",
    "            tape.watch(x)\n",
    "            tape.watch(t)\n",
    "            \n",
    "            s = model([X_br, tf.stack((x,t),axis=1)], training=True)\n",
    "            dsdx=tape.gradient(s,x)\n",
    "            d2sdx2=tape.gradient(dsdx,x)\n",
    "            \n",
    "            dsdt=tape.gradient(s,t)\n",
    "            u=fn(A,B,x)\n",
    "            \n",
    "            loss = tf.reduce_mean(tf.square(dsdt-D_coeff*d2sdx2-K_coeff*tf.square(s)-u))\n",
    "             \n",
    "    return loss\n",
    " \n",
    "def loss_bdr(X_br,X_tr,A,B):\n",
    "    with tf.GradientTape(persistent=True) as tape:\n",
    "            \n",
    "            x,t=tf.unstack(X_tr,axis=1)\n",
    "            tape.watch(x)\n",
    "            tape.watch(t)\n",
    "            \n",
    "            s = model([X_br, tf.stack((x,t),axis=1)], training=True)\n",
    "            dsdx=tape.gradient(s,x)\n",
    "            d2sdx2=tape.gradient(dsdx,x)\n",
    "            \n",
    "            dsdt=tape.gradient(s,t)\n",
    "            u=fn(A,B,x)\n",
    "            \n",
    "            loss2=tf.reduce_mean(tf.square(s))\n",
    "            \n",
    "            loss = tf.reduce_mean(tf.square(dsdt-D_coeff*d2sdx2-K_coeff*tf.square(s)-u))+2*loss2\n",
    "             \n",
    "    return loss"
   ]
  },
  {
   "cell_type": "code",
   "execution_count": 18,
   "id": "f8fe8657",
   "metadata": {},
   "outputs": [
    {
     "name": "stdout",
     "output_type": "stream",
     "text": [
      "Epoch 0, loss=659.242737\n",
      "Epoch 10, loss=13.986856\n",
      "Epoch 20, loss=0.339728\n",
      "Epoch 30, loss=0.227264\n",
      "Epoch 40, loss=0.156061\n",
      "Epoch 50, loss=0.161708\n",
      "Epoch 60, loss=0.165148\n",
      "Epoch 70, loss=0.144631\n",
      "Epoch 80, loss=0.134497\n",
      "Epoch 90, loss=0.132640\n",
      "Epoch 100, loss=0.129814\n",
      "Epoch 110, loss=0.127490\n",
      "Epoch 120, loss=0.125558\n",
      "Epoch 130, loss=0.123856\n",
      "Epoch 140, loss=0.122389\n",
      "Epoch 150, loss=0.121124\n",
      "Epoch 160, loss=0.120022\n",
      "Epoch 170, loss=0.119051\n",
      "Epoch 180, loss=0.118187\n",
      "Epoch 190, loss=0.117419\n",
      "Epoch 200, loss=0.116801\n",
      "Epoch 210, loss=0.116997\n"
     ]
    },
    {
     "ename": "KeyboardInterrupt",
     "evalue": "",
     "output_type": "error",
     "traceback": [
      "\u001b[1;31m---------------------------------------------------------------------------\u001b[0m",
      "\u001b[1;31mKeyboardInterrupt\u001b[0m                         Traceback (most recent call last)",
      "Input \u001b[1;32mIn [18]\u001b[0m, in \u001b[0;36m<cell line: 11>\u001b[1;34m()\u001b[0m\n\u001b[0;32m     13\u001b[0m     \u001b[38;5;28;01mwith\u001b[39;00m tf\u001b[38;5;241m.\u001b[39mGradientTape() \u001b[38;5;28;01mas\u001b[39;00m tape:\n\u001b[0;32m     15\u001b[0m         loss_value \u001b[38;5;241m=\u001b[39m loss(X_br,X_tr,A,B)\n\u001b[1;32m---> 16\u001b[0m     grads \u001b[38;5;241m=\u001b[39m \u001b[43mtape\u001b[49m\u001b[38;5;241;43m.\u001b[39;49m\u001b[43mgradient\u001b[49m\u001b[43m(\u001b[49m\u001b[43mloss_value\u001b[49m\u001b[43m,\u001b[49m\u001b[43m \u001b[49m\u001b[43mmodel\u001b[49m\u001b[38;5;241;43m.\u001b[39;49m\u001b[43mtrainable_variables\u001b[49m\u001b[43m)\u001b[49m\n\u001b[0;32m     17\u001b[0m     optimizer\u001b[38;5;241m.\u001b[39mapply_gradients(\u001b[38;5;28mzip\u001b[39m(grads, model\u001b[38;5;241m.\u001b[39mtrainable_variables))\n\u001b[0;32m     19\u001b[0m \u001b[38;5;28;01mfor\u001b[39;00m X_br, X_tr, A,B \u001b[38;5;129;01min\u001b[39;00m dataset_bdr:\n",
      "File \u001b[1;32m~\\anaconda3\\lib\\site-packages\\tensorflow\\python\\eager\\backprop.py:1112\u001b[0m, in \u001b[0;36mGradientTape.gradient\u001b[1;34m(self, target, sources, output_gradients, unconnected_gradients)\u001b[0m\n\u001b[0;32m   1106\u001b[0m   output_gradients \u001b[38;5;241m=\u001b[39m (\n\u001b[0;32m   1107\u001b[0m       composite_tensor_gradient\u001b[38;5;241m.\u001b[39mget_flat_tensors_for_gradients(\n\u001b[0;32m   1108\u001b[0m           output_gradients))\n\u001b[0;32m   1109\u001b[0m   output_gradients \u001b[38;5;241m=\u001b[39m [\u001b[38;5;28;01mNone\u001b[39;00m \u001b[38;5;28;01mif\u001b[39;00m x \u001b[38;5;129;01mis\u001b[39;00m \u001b[38;5;28;01mNone\u001b[39;00m \u001b[38;5;28;01melse\u001b[39;00m ops\u001b[38;5;241m.\u001b[39mconvert_to_tensor(x)\n\u001b[0;32m   1110\u001b[0m                       \u001b[38;5;28;01mfor\u001b[39;00m x \u001b[38;5;129;01min\u001b[39;00m output_gradients]\n\u001b[1;32m-> 1112\u001b[0m flat_grad \u001b[38;5;241m=\u001b[39m \u001b[43mimperative_grad\u001b[49m\u001b[38;5;241;43m.\u001b[39;49m\u001b[43mimperative_grad\u001b[49m\u001b[43m(\u001b[49m\n\u001b[0;32m   1113\u001b[0m \u001b[43m    \u001b[49m\u001b[38;5;28;43mself\u001b[39;49m\u001b[38;5;241;43m.\u001b[39;49m\u001b[43m_tape\u001b[49m\u001b[43m,\u001b[49m\n\u001b[0;32m   1114\u001b[0m \u001b[43m    \u001b[49m\u001b[43mflat_targets\u001b[49m\u001b[43m,\u001b[49m\n\u001b[0;32m   1115\u001b[0m \u001b[43m    \u001b[49m\u001b[43mflat_sources\u001b[49m\u001b[43m,\u001b[49m\n\u001b[0;32m   1116\u001b[0m \u001b[43m    \u001b[49m\u001b[43moutput_gradients\u001b[49m\u001b[38;5;241;43m=\u001b[39;49m\u001b[43moutput_gradients\u001b[49m\u001b[43m,\u001b[49m\n\u001b[0;32m   1117\u001b[0m \u001b[43m    \u001b[49m\u001b[43msources_raw\u001b[49m\u001b[38;5;241;43m=\u001b[39;49m\u001b[43mflat_sources_raw\u001b[49m\u001b[43m,\u001b[49m\n\u001b[0;32m   1118\u001b[0m \u001b[43m    \u001b[49m\u001b[43munconnected_gradients\u001b[49m\u001b[38;5;241;43m=\u001b[39;49m\u001b[43munconnected_gradients\u001b[49m\u001b[43m)\u001b[49m\n\u001b[0;32m   1120\u001b[0m \u001b[38;5;28;01mif\u001b[39;00m \u001b[38;5;129;01mnot\u001b[39;00m \u001b[38;5;28mself\u001b[39m\u001b[38;5;241m.\u001b[39m_persistent:\n\u001b[0;32m   1121\u001b[0m   \u001b[38;5;66;03m# Keep track of watched variables before setting tape to None\u001b[39;00m\n\u001b[0;32m   1122\u001b[0m   \u001b[38;5;28mself\u001b[39m\u001b[38;5;241m.\u001b[39m_watched_variables \u001b[38;5;241m=\u001b[39m \u001b[38;5;28mself\u001b[39m\u001b[38;5;241m.\u001b[39m_tape\u001b[38;5;241m.\u001b[39mwatched_variables()\n",
      "File \u001b[1;32m~\\anaconda3\\lib\\site-packages\\tensorflow\\python\\eager\\imperative_grad.py:67\u001b[0m, in \u001b[0;36mimperative_grad\u001b[1;34m(tape, target, sources, output_gradients, sources_raw, unconnected_gradients)\u001b[0m\n\u001b[0;32m     63\u001b[0m \u001b[38;5;28;01mexcept\u001b[39;00m \u001b[38;5;167;01mValueError\u001b[39;00m:\n\u001b[0;32m     64\u001b[0m   \u001b[38;5;28;01mraise\u001b[39;00m \u001b[38;5;167;01mValueError\u001b[39;00m(\n\u001b[0;32m     65\u001b[0m       \u001b[38;5;124m\"\u001b[39m\u001b[38;5;124mUnknown value for unconnected_gradients: \u001b[39m\u001b[38;5;132;01m%r\u001b[39;00m\u001b[38;5;124m\"\u001b[39m \u001b[38;5;241m%\u001b[39m unconnected_gradients)\n\u001b[1;32m---> 67\u001b[0m \u001b[38;5;28;01mreturn\u001b[39;00m \u001b[43mpywrap_tfe\u001b[49m\u001b[38;5;241;43m.\u001b[39;49m\u001b[43mTFE_Py_TapeGradient\u001b[49m\u001b[43m(\u001b[49m\n\u001b[0;32m     68\u001b[0m \u001b[43m    \u001b[49m\u001b[43mtape\u001b[49m\u001b[38;5;241;43m.\u001b[39;49m\u001b[43m_tape\u001b[49m\u001b[43m,\u001b[49m\u001b[43m  \u001b[49m\u001b[38;5;66;43;03m# pylint: disable=protected-access\u001b[39;49;00m\n\u001b[0;32m     69\u001b[0m \u001b[43m    \u001b[49m\u001b[43mtarget\u001b[49m\u001b[43m,\u001b[49m\n\u001b[0;32m     70\u001b[0m \u001b[43m    \u001b[49m\u001b[43msources\u001b[49m\u001b[43m,\u001b[49m\n\u001b[0;32m     71\u001b[0m \u001b[43m    \u001b[49m\u001b[43moutput_gradients\u001b[49m\u001b[43m,\u001b[49m\n\u001b[0;32m     72\u001b[0m \u001b[43m    \u001b[49m\u001b[43msources_raw\u001b[49m\u001b[43m,\u001b[49m\n\u001b[0;32m     73\u001b[0m \u001b[43m    \u001b[49m\u001b[43mcompat\u001b[49m\u001b[38;5;241;43m.\u001b[39;49m\u001b[43mas_str\u001b[49m\u001b[43m(\u001b[49m\u001b[43munconnected_gradients\u001b[49m\u001b[38;5;241;43m.\u001b[39;49m\u001b[43mvalue\u001b[49m\u001b[43m)\u001b[49m\u001b[43m)\u001b[49m\n",
      "File \u001b[1;32m~\\anaconda3\\lib\\site-packages\\tensorflow\\python\\eager\\backprop.py:157\u001b[0m, in \u001b[0;36m_gradient_function\u001b[1;34m(op_name, attr_tuple, num_inputs, inputs, outputs, out_grads, skip_input_indices, forward_pass_name_scope)\u001b[0m\n\u001b[0;32m    155\u001b[0m     gradient_name_scope \u001b[38;5;241m+\u001b[39m\u001b[38;5;241m=\u001b[39m forward_pass_name_scope \u001b[38;5;241m+\u001b[39m \u001b[38;5;124m\"\u001b[39m\u001b[38;5;124m/\u001b[39m\u001b[38;5;124m\"\u001b[39m\n\u001b[0;32m    156\u001b[0m   \u001b[38;5;28;01mwith\u001b[39;00m ops\u001b[38;5;241m.\u001b[39mname_scope(gradient_name_scope):\n\u001b[1;32m--> 157\u001b[0m     \u001b[38;5;28;01mreturn\u001b[39;00m \u001b[43mgrad_fn\u001b[49m\u001b[43m(\u001b[49m\u001b[43mmock_op\u001b[49m\u001b[43m,\u001b[49m\u001b[43m \u001b[49m\u001b[38;5;241;43m*\u001b[39;49m\u001b[43mout_grads\u001b[49m\u001b[43m)\u001b[49m\n\u001b[0;32m    158\u001b[0m \u001b[38;5;28;01melse\u001b[39;00m:\n\u001b[0;32m    159\u001b[0m   \u001b[38;5;28;01mreturn\u001b[39;00m grad_fn(mock_op, \u001b[38;5;241m*\u001b[39mout_grads)\n",
      "File \u001b[1;32m~\\anaconda3\\lib\\site-packages\\tensorflow\\python\\ops\\math_grad.py:630\u001b[0m, in \u001b[0;36m_SquareGrad\u001b[1;34m(op, grad)\u001b[0m\n\u001b[0;32m    628\u001b[0m x \u001b[38;5;241m=\u001b[39m math_ops\u001b[38;5;241m.\u001b[39mconj(x)\n\u001b[0;32m    629\u001b[0m y \u001b[38;5;241m=\u001b[39m constant_op\u001b[38;5;241m.\u001b[39mconstant(\u001b[38;5;241m2.0\u001b[39m, dtype\u001b[38;5;241m=\u001b[39mx\u001b[38;5;241m.\u001b[39mdtype)\n\u001b[1;32m--> 630\u001b[0m \u001b[38;5;28;01mreturn\u001b[39;00m \u001b[43mmath_ops\u001b[49m\u001b[38;5;241;43m.\u001b[39;49m\u001b[43mmultiply\u001b[49m\u001b[43m(\u001b[49m\u001b[43mgrad\u001b[49m\u001b[43m,\u001b[49m\u001b[43m \u001b[49m\u001b[43mmath_ops\u001b[49m\u001b[38;5;241;43m.\u001b[39;49m\u001b[43mmultiply\u001b[49m\u001b[43m(\u001b[49m\u001b[43mx\u001b[49m\u001b[43m,\u001b[49m\u001b[43m \u001b[49m\u001b[43my\u001b[49m\u001b[43m)\u001b[49m\u001b[43m)\u001b[49m\n",
      "\u001b[1;31mKeyboardInterrupt\u001b[0m: "
     ]
    }
   ],
   "source": [
    "# Training loop\n",
    "\n",
    "# Define a learning rate schedule\n",
    "initial_learning_rate = 0.01\n",
    "lr_schedule = tf.keras.optimizers.schedules.ExponentialDecay(\n",
    "    initial_learning_rate, decay_steps=100, decay_rate=0.9)\n",
    "\n",
    "# Define the optimizer with the learning rate schedule\n",
    "optimizer = tf.keras.optimizers.Adam(learning_rate=lr_schedule)\n",
    "\n",
    "for epoch in range(2000):\n",
    "    for X_br, X_tr, A,B in dataset:\n",
    "        with tf.GradientTape() as tape:\n",
    "           \n",
    "            loss_value = loss(X_br,X_tr,A,B)\n",
    "        grads = tape.gradient(loss_value, model.trainable_variables)\n",
    "        optimizer.apply_gradients(zip(grads, model.trainable_variables))\n",
    "        \n",
    "    for X_br, X_tr, A,B in dataset_bdr:\n",
    "        with tf.GradientTape() as tape:\n",
    "           \n",
    "            loss_value = loss_bdr(X_br,X_tr,A,B)\n",
    "        grads = tape.gradient(loss_value, model.trainable_variables)\n",
    "        optimizer.apply_gradients(zip(grads, model.trainable_variables))\n",
    "        \n",
    "    if epoch % 10 == 0:\n",
    "        print(f\"Epoch {epoch}, loss={loss_value:.6f}\")"
   ]
  },
  {
   "cell_type": "code",
   "execution_count": 19,
   "id": "d0b7d9c3",
   "metadata": {},
   "outputs": [],
   "source": [
    "#prediction for a function\n",
    "s=model([X_train_branch[nx*nt:], X_train_trunck[nt*nx:]])"
   ]
  },
  {
   "cell_type": "code",
   "execution_count": 20,
   "id": "cf111775",
   "metadata": {},
   "outputs": [
    {
     "data": {
      "image/png": "[encoded data removed]",
      "text/plain": [
       "<Figure size 1152x288 with 2 Axes>"
      ]
     },
     "metadata": {
      "needs_background": "light"
     },
     "output_type": "display_data"
    }
   ],
   "source": [
    "tt=tf.reshape(s,(nx,nt))\n",
    "t=np.reshape(t,(len(t),1))\n",
    "x=np.reshape(x,(len(x),1))\n",
    "\n",
    "x_eval,t_eval = np.meshgrid(x,t)\n",
    "fig = plt.figure(figsize=(16,4))\n",
    "ax1 = fig.add_subplot(121)\n",
    "im1 = ax1.imshow(tt,cmap='jet',origin='lower')\n",
    "\n",
    "\n",
    "fig.colorbar(im1, orientation='vertical')\n",
    "plt.show()"
   ]
  },
  {
   "cell_type": "code",
   "execution_count": 21,
   "id": "2f114414",
   "metadata": {},
   "outputs": [],
   "source": [
    "import scipy.io\n",
    "import time as time_lib\n",
    "import scipy.optimize\n",
    "from scipy.fft import fft, ifft\n",
    "from scipy.integrate import odeint\n",
    "\n",
    "def sol_reaction_diff(u,t,K_coeff,D_coeff):\n",
    "    \n",
    "    s_0 = u*0.0\n",
    "    \n",
    "    def rhsf(s, t):\n",
    "        N = len(s)\n",
    "        n = np.arange(N); n[int(N/2)+1:]-= N\n",
    "        return K_coeff*s**2 - D_coeff*ifft((2*np.pi*n/L)**2*fft(s)).real + u\n",
    "    \n",
    "    sol = odeint(rhsf, s_0, t)\n",
    "    \n",
    "    return sol"
   ]
  },
  {
   "cell_type": "code",
   "execution_count": 26,
   "id": "f494d8a3",
   "metadata": {},
   "outputs": [],
   "source": [
    "x=np.linspace(0,1,nx)\n",
    "L=1\n",
    "t=np.linspace(0,1,nt)\n",
    "u_inp_fun=fn(A[0],B[0],x)\n",
    "sol_fun =  sol_reaction_diff(u_inp_fun,t,K_coeff,D_coeff)"
   ]
  },
  {
   "cell_type": "code",
   "execution_count": 28,
   "id": "bbc2aae2",
   "metadata": {},
   "outputs": [
    {
     "data": {
      "image/png": "[encoded data removed]",
      "text/plain": [
       "<Figure size 1152x288 with 1 Axes>"
      ]
     },
     "metadata": {
      "needs_background": "light"
     },
     "output_type": "display_data"
    }
   ],
   "source": [
    "fig = plt.figure(figsize=(16,4))\n",
    "ax1 = fig.add_subplot(121)\n",
    "im1 = ax1.imshow(sol_fun,cmap='jet',origin='lower')"
   ]
  }
 ],
 "metadata": {
  "kernelspec": {
   "display_name": "Python 3 (ipykernel)",
   "language": "python",
   "name": "python3"
  },
  "language_info": {
   "codemirror_mode": {
    "name": "ipython",
    "version": 3
   },
   "file_extension": ".py",
   "mimetype": "text/x-python",
   "name": "python",
   "nbconvert_exporter": "python",
   "pygments_lexer": "ipython3",
   "version": "3.9.12"
  }
 },
 "nbformat": 4,
 "nbformat_minor": 5
}
