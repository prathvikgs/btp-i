{
 "cells": [
  {
   "cell_type": "markdown",
   "id": "d2b4c680",
   "metadata": {},
   "source": [
    "# PI-Deeponet"
   ]
  },
  {
   "cell_type": "markdown",
   "id": "33cc34e7",
   "metadata": {},
   "source": [
    "$$\\frac{\\partial s}{\\partial t} = D_{coeff}\\frac{\\partial^2 s}{\\partial x^2} + K_{coeff}s^2 + u(x)$$\\\n",
    "$$**s(x,0) = 0**$$\n",
    "boundary condition : periodic\\\n",
    "domain : x = [0,1] and  t = [0,1]"
   ]
  },
  {
   "cell_type": "code",
   "execution_count": 2,
   "id": "ab56da64",
   "metadata": {},
   "outputs": [],
   "source": [
    "import numpy as np\n",
    "import tensorflow as tf\n",
    "import matplotlib.pyplot as plt\n",
    "from tensorflow.keras.layers import Input, Dense, concatenate, Lambda\n",
    "from tensorflow.keras.utils import to_categorical\n",
    "import scipy.io\n",
    "import time as time_lib\n",
    "import scipy.optimize\n",
    "from scipy.fft import fft, ifft\n",
    "from scipy.integrate import odeint"
   ]
  },
  {
   "cell_type": "code",
   "execution_count": 55,
   "id": "f376eaf2",
   "metadata": {},
   "outputs": [],
   "source": [
    "n_functions=20 #no of functions\n",
    "n_sensors=100 #no of sensor points\n",
    "\n",
    "lb_A=-1 #lowerbound of coefficient\n",
    "ub_A=1 #upperbound of coefficient\n",
    "L=1\n",
    "nx = 20 # no of grid points for x\n",
    "nt = 20 # no of grid points for t\n",
    "\n",
    "n_bdr=50\n",
    "n_train=nx*nt\n",
    "\n",
    "# domain\n",
    "x_0=0\n",
    "x_l=1\n",
    "t_0=0\n",
    "t_l=1\n",
    "\n",
    "#for trunck-inside points\n",
    "x=np.linspace(x_0,x_l,nx)\n",
    "t=np.linspace(t_0,t_l,nt)\n",
    "\n",
    "#boundary points\n",
    "x_bdr=np.random.rand(n_bdr)\n",
    "t_bdr=np.zeros(n_bdr)\n",
    "\n",
    "#for trunck\n",
    "x_sensor=np.linspace(0,1,n_sensors)\n",
    "\n",
    "t=np.reshape(t,(len(t),1))\n",
    "x=np.reshape(x,(len(x),1))\n",
    "\n",
    "x_eval,t_eval = np.meshgrid(x,t)\n",
    "\n",
    "x_eval=np.reshape(x_eval,-1)\n",
    "t_eval=np.reshape(t_eval,-1)\n",
    "x_bdr=np.reshape(x_bdr,-1)\n",
    "t_bdr=np.reshape(t_bdr,-1)\n",
    "\n",
    "y=np.concatenate([x_eval[:, None], t_eval[:, None]],axis=1)\n",
    "y_bdr=np.concatenate([x_bdr[:, None], t_bdr[:, None]],axis=1)\n",
    "\n",
    "A=np.random.rand(n_functions)\n",
    "B=np.random.rand(n_functions)\n",
    "\n",
    "D_coeff  = 0.01 # constant in PDE\n",
    "K_coeff = 0.01 # constant in PDE\n",
    "\n",
    "#functions\n",
    "def fn(A,B,x):\n",
    "    return np.cos(2*np.pi*A*x)+np.sin(2*np.pi*B*x)\n",
    "\n",
    "#DNS\n",
    "def sol_reaction_diff(u,t,K_coeff,D_coeff):\n",
    "    \n",
    "    s_0 = u*0.0\n",
    "    \n",
    "    def rhsf(s, t):\n",
    "        N = len(s)\n",
    "        n = np.arange(N); n[int(N/2)+1:]-= N\n",
    "        return K_coeff*s**2 - D_coeff*ifft((2*np.pi*n/L)**2*fft(s)).real + u\n",
    "    \n",
    "    sol = odeint(rhsf, s_0, t)\n",
    "    \n",
    "    return sol\n",
    "\n",
    "f=[]\n",
    "for i in range(n_functions):\n",
    "    f.append(fn(A[i],B[i],x_sensor))\n",
    "    \n",
    "f=np.array(f)"
   ]
  },
  {
   "cell_type": "code",
   "execution_count": 56,
   "id": "f21bb263",
   "metadata": {},
   "outputs": [
    {
     "data": {
      "text/plain": [
       "(20, 100)"
      ]
     },
     "execution_count": 56,
     "metadata": {},
     "output_type": "execute_result"
    }
   ],
   "source": [
    "f.shape"
   ]
  },
  {
   "cell_type": "code",
   "execution_count": 57,
   "id": "d7437774",
   "metadata": {},
   "outputs": [],
   "source": [
    "#create X_train\n",
    "\n",
    "#x_branch and x_branch to train\n",
    "X_train_branch=[]\n",
    "X_train_trunck=[]\n",
    "A_train=[]\n",
    "B_train=[]\n",
    "\n",
    "for i in range(n_functions):\n",
    "    for j in range(n_train):\n",
    "        X_train_branch.append(f[i])\n",
    "        X_train_trunck.append(y[j])\n",
    "        \n",
    "        A_train.append(A[i])\n",
    "        B_train.append(B[i])\n",
    "\n",
    "X_train_branch=np.array(X_train_branch)\n",
    "X_train_trunck=np.array(X_train_trunck)\n",
    "\n",
    "A_train=np.array(A_train)\n",
    "B_train=np.array(B_train)\n",
    "\n",
    "#create X_train for boundary\n",
    "\n",
    "#x_branch and x_branch to train\n",
    "X_train_branch_bdr=[]\n",
    "X_train_trunck_bdr=[]\n",
    "A_train_bdr=[]\n",
    "B_train_bdr=[]\n",
    "\n",
    "for i in range(n_functions):\n",
    "    for j in range(n_bdr):\n",
    "        X_train_branch_bdr.append(f[i])\n",
    "        X_train_trunck_bdr.append(y_bdr[j])\n",
    "        \n",
    "        A_train_bdr.append(A[i])\n",
    "        B_train_bdr.append(B[i])\n",
    "\n",
    "X_train_branch_bdr=np.array(X_train_branch_bdr)\n",
    "X_train_trunck_bdr=np.array(X_train_trunck_bdr)\n",
    "\n",
    "A_train_bdr=np.array(A_train_bdr)\n",
    "B_train_bdr=np.array(B_train_bdr)"
   ]
  },
  {
   "cell_type": "code",
   "execution_count": 58,
   "id": "dc894f27",
   "metadata": {},
   "outputs": [],
   "source": [
    "X_train_br=tf.convert_to_tensor(X_train_branch, dtype=tf.float32, dtype_hint=None, name=None)\n",
    "X_train_tr=tf.convert_to_tensor(X_train_trunck, dtype=tf.float32, dtype_hint=None, name=None)\n",
    "A_train=tf.convert_to_tensor(A_train, dtype=tf.float32, dtype_hint=None, name=None)\n",
    "B_train=tf.convert_to_tensor(B_train, dtype=tf.float32, dtype_hint=None, name=None)\n",
    "\n",
    "X_train_br_bdr=tf.convert_to_tensor(X_train_branch_bdr, dtype=tf.float32, dtype_hint=None, name=None)\n",
    "X_train_tr_bdr=tf.convert_to_tensor(X_train_trunck_bdr, dtype=tf.float32, dtype_hint=None, name=None)\n",
    "A_train_bdr=tf.convert_to_tensor(A_train_bdr, dtype=tf.float32, dtype_hint=None, name=None)\n",
    "B_train_bdr=tf.convert_to_tensor(B_train_bdr, dtype=tf.float32, dtype_hint=None, name=None)"
   ]
  },
  {
   "cell_type": "code",
   "execution_count": 59,
   "id": "249322ef",
   "metadata": {},
   "outputs": [],
   "source": [
    "dataset = tf.data.Dataset.from_tensor_slices((X_train_br, X_train_tr, A_train,B_train))\n",
    "dataset_bdr=tf.data.Dataset.from_tensor_slices((X_train_br_bdr, X_train_tr_bdr, A_train_bdr,B_train_bdr))\n",
    "\n",
    "batch_size = 400  # Adjust this based on your needs\n",
    "batch_size_bdr = 50\n",
    "\n",
    "dataset = dataset.batch(batch_size)\n",
    "dataset_bdr = dataset_bdr.batch(batch_size_bdr)"
   ]
  },
  {
   "cell_type": "code",
   "execution_count": 60,
   "id": "b73037e1",
   "metadata": {},
   "outputs": [
    {
     "name": "stdout",
     "output_type": "stream",
     "text": [
      "WARNING:tensorflow:The following Variables were used in a Lambda layer's call (tf.__operators__.add_7), but are not present in its tracked objects:   <tf.Variable 'Variable:0' shape=() dtype=float32>. This is a strong indication that the Lambda layer should be rewritten as a subclassed Layer.\n"
     ]
    }
   ],
   "source": [
    "# Define the optimizer\n",
    "optimizer = tf.keras.optimizers.Adam()\n",
    "tf.keras.backend.set_floatx('float32')\n",
    "\n",
    "#model for deepOnet###########################################################\n",
    "\n",
    "#no of sensor points\n",
    "m=n_sensors\n",
    "branch_input = Input(shape=(m,), name='vector_input')\n",
    "trunck_input = Input(shape=(2,), name='scalar_input')\n",
    "\n",
    "#branch network\n",
    "branch_net = Dense(128, activation='tanh')(branch_input)\n",
    "branch_net = Dense(128, activation='tanh')(branch_net)\n",
    "branch_net = Dense(128, activation='tanh')(branch_net)\n",
    "branch_net = Dense(128, activation='tanh')(branch_net)\n",
    "branch_net = Dense(128, activation='tanh')(branch_net)\n",
    "branch_net = Dense(m, activation='tanh')(branch_net)\n",
    "\n",
    "# Trunck network\n",
    "trunck_net = Dense(128, activation='tanh')(trunck_input)\n",
    "trunck_net = Dense(128, activation='tanh')(trunck_net)\n",
    "trunck_net = Dense(128, activation='tanh')(trunck_net)\n",
    "trunck_net = Dense(128, activation='tanh')(trunck_net)\n",
    "trunck_net = Dense(128, activation='tanh')(trunck_net)\n",
    "trunck_net = Dense(m, activation='tanh')(trunck_net)\n",
    "bias = tf.Variable(0., shape=(), trainable=True) \n",
    "\n",
    "dot_product = Lambda(lambda x: tf.reduce_sum(x[0] * x[1], axis=1, keepdims=True))([branch_net, trunck_net])\n",
    "model = tf.keras.Model(inputs=[branch_input, trunck_input], outputs=dot_product+bias)\n",
    "\n",
    "###############################################################################\n",
    "\n",
    "def loss(X_br,X_tr,A,B):\n",
    "    with tf.GradientTape(persistent=True) as tape:\n",
    "            \n",
    "            x,t=tf.unstack(X_tr,axis=1)\n",
    "            tape.watch(x)\n",
    "            tape.watch(t)\n",
    "            \n",
    "            s = model([X_br, tf.stack((x,t),axis=1)], training=True)\n",
    "            dsdx=tape.gradient(s,x)\n",
    "            d2sdx2=tape.gradient(dsdx,x)\n",
    "            \n",
    "            dsdt=tape.gradient(s,t)\n",
    "            u=fn(A,B,x)\n",
    "            \n",
    "            loss = tf.reduce_mean(tf.square(dsdt-D_coeff*d2sdx2-K_coeff*tf.square(s)-u))\n",
    "             \n",
    "    return loss\n",
    " \n",
    "def loss_bdr(X_br,X_tr,A,B):\n",
    "    with tf.GradientTape(persistent=True) as tape:\n",
    "            \n",
    "            x,t=tf.unstack(X_tr,axis=1)\n",
    "            tape.watch(x)\n",
    "            tape.watch(t)\n",
    "            \n",
    "            s = model([X_br, tf.stack((x,t),axis=1)], training=True)\n",
    "            dsdx=tape.gradient(s,x)\n",
    "            d2sdx2=tape.gradient(dsdx,x)\n",
    "            \n",
    "            dsdt=tape.gradient(s,t)\n",
    "            u=fn(A,B,x)\n",
    "            \n",
    "            loss2=tf.reduce_mean(tf.square(s))\n",
    "            \n",
    "            loss = tf.reduce_mean(tf.square(dsdt-D_coeff*d2sdx2-K_coeff*tf.square(s)-u))+2*loss2\n",
    "             \n",
    "    return loss"
   ]
  },
  {
   "cell_type": "code",
   "execution_count": null,
   "id": "f8fe8657",
   "metadata": {},
   "outputs": [
    {
     "name": "stdout",
     "output_type": "stream",
     "text": [
      "WARNING:tensorflow:Calling GradientTape.gradient on a persistent tape inside its context is significantly less efficient than calling it outside the context (it causes the gradient ops to be recorded on the tape, leading to increased CPU and memory usage). Only call GradientTape.gradient inside the context if you actually want to trace the gradient in order to compute higher order derivatives.\n",
      "WARNING:tensorflow:Calling GradientTape.gradient on a persistent tape inside its context is significantly less efficient than calling it outside the context (it causes the gradient ops to be recorded on the tape, leading to increased CPU and memory usage). Only call GradientTape.gradient inside the context if you actually want to trace the gradient in order to compute higher order derivatives.\n",
      "WARNING:tensorflow:Calling GradientTape.gradient on a persistent tape inside its context is significantly less efficient than calling it outside the context (it causes the gradient ops to be recorded on the tape, leading to increased CPU and memory usage). Only call GradientTape.gradient inside the context if you actually want to trace the gradient in order to compute higher order derivatives.\n",
      "WARNING:tensorflow:Calling GradientTape.gradient on a persistent tape inside its context is significantly less efficient than calling it outside the context (it causes the gradient ops to be recorded on the tape, leading to increased CPU and memory usage). Only call GradientTape.gradient inside the context if you actually want to trace the gradient in order to compute higher order derivatives.\n",
      "WARNING:tensorflow:Calling GradientTape.gradient on a persistent tape inside its context is significantly less efficient than calling it outside the context (it causes the gradient ops to be recorded on the tape, leading to increased CPU and memory usage). Only call GradientTape.gradient inside the context if you actually want to trace the gradient in order to compute higher order derivatives.\n",
      "WARNING:tensorflow:Calling GradientTape.gradient on a persistent tape inside its context is significantly less efficient than calling it outside the context (it causes the gradient ops to be recorded on the tape, leading to increased CPU and memory usage). Only call GradientTape.gradient inside the context if you actually want to trace the gradient in order to compute higher order derivatives.\n",
      "Epoch 0, loss=3.426277\n",
      "Epoch 5, loss=1.761864\n",
      "Epoch 10, loss=1.761344\n",
      "Epoch 15, loss=1.742988\n",
      "Epoch 20, loss=1.679416\n",
      "Epoch 25, loss=1.415471\n",
      "Epoch 30, loss=1.496133\n",
      "Epoch 35, loss=1.428199\n",
      "Epoch 40, loss=1.338695\n"
     ]
    }
   ],
   "source": [
    "# Training loop\n",
    "\n",
    "# Define a learning rate schedule\n",
    "initial_learning_rate = 0.01\n",
    "lr_schedule = tf.keras.optimizers.schedules.ExponentialDecay(\n",
    "    initial_learning_rate, decay_steps=100, decay_rate=0.9)\n",
    "\n",
    "# Define the optimizer with the learning rate schedule\n",
    "optimizer = tf.keras.optimizers.Adam(learning_rate=lr_schedule)\n",
    "\n",
    "for epoch in range(5000):\n",
    "    for X_br, X_tr, A,B in dataset:\n",
    "        with tf.GradientTape() as tape:\n",
    "           \n",
    "            loss_value = loss(X_br,X_tr,A,B)\n",
    "        grads = tape.gradient(loss_value, model.trainable_variables)\n",
    "        optimizer.apply_gradients(zip(grads, model.trainable_variables))\n",
    "        \n",
    "    for X_br, X_tr, A,B in dataset_bdr:\n",
    "        with tf.GradientTape() as tape:\n",
    "           \n",
    "            loss_value = loss_bdr(X_br,X_tr,A,B)\n",
    "        grads = tape.gradient(loss_value, model.trainable_variables)\n",
    "        optimizer.apply_gradients(zip(grads, model.trainable_variables))\n",
    "        \n",
    "    if epoch % 5 == 0:\n",
    "        print(f\"Epoch {epoch}, loss={loss_value:.6f}\")"
   ]
  },
  {
   "cell_type": "code",
   "execution_count": 19,
   "id": "d0b7d9c3",
   "metadata": {},
   "outputs": [],
   "source": [
    "#prediction for a function\n",
    "\n",
    "s=model([X_train_branch[nx*nt:], X_train_trunck[nt*nx:]])"
   ]
  },
  {
   "cell_type": "code",
   "execution_count": 20,
   "id": "cf111775",
   "metadata": {},
   "outputs": [
    {
     "data": {
      "image/png": "[encoded data removed]",
      "text/plain": [
       "<Figure size 1152x288 with 2 Axes>"
      ]
     },
     "metadata": {
      "needs_background": "light"
     },
     "output_type": "display_data"
    }
   ],
   "source": [
    "tt=tf.reshape(s,(nx,nt))\n",
    "t=np.reshape(t,(len(t),1))\n",
    "x=np.reshape(x,(len(x),1))\n",
    "\n",
    "x_eval,t_eval = np.meshgrid(x,t)\n",
    "fig = plt.figure(figsize=(16,4))\n",
    "ax1 = fig.add_subplot(121)\n",
    "im1 = ax1.imshow(tt,cmap='jet',origin='lower')\n",
    "\n",
    "L=1\n",
    "\n",
    "u_inp_fun=fn(A[1],B[1],x)\n",
    "sol_fun =  sol_reaction_diff(u_inp_fun,t,K_coeff,D_coeff)\n",
    "fig.colorbar(im1, orientation='vertical')\n",
    "\n",
    "plt.show()"
   ]
  },
  {
   "cell_type": "code",
   "execution_count": 21,
   "id": "6fd51697",
   "metadata": {},
   "outputs": [],
   "source": []
  },
  {
   "cell_type": "code",
   "execution_count": 30,
   "id": "f494d8a3",
   "metadata": {},
   "outputs": [],
   "source": [
    "x=np.linspace(0,1,nx)\n",
    "L=1\n",
    "t=np.linspace(0,1,nt)\n",
    "u_inp_fun=fn(A[1],B[1],x)\n",
    "sol_fun =  sol_reaction_diff(u_inp_fun,t,K_coeff,D_coeff)"
   ]
  },
  {
   "cell_type": "code",
   "execution_count": 31,
   "id": "14bebba8",
   "metadata": {},
   "outputs": [
    {
     "data": {
      "image/png": "[encoded data removed]",
      "text/plain": [
       "<Figure size 1152x288 with 2 Axes>"
      ]
     },
     "metadata": {
      "needs_background": "light"
     },
     "output_type": "display_data"
    }
   ],
   "source": [
    "fig = plt.figure(figsize=(16,4))\n",
    "ax1 = fig.add_subplot(121)\n",
    "im1 = ax1.imshow(sol_fun,cmap='jet',origin='lower')\n",
    "fig.colorbar(im1, orientation='vertical')\n",
    "plt.show()"
   ]
  }
 ],
 "metadata": {
  "kernelspec": {
   "display_name": "Python 3 (ipykernel)",
   "language": "python",
   "name": "python3"
  },
  "language_info": {
   "codemirror_mode": {
    "name": "ipython",
    "version": 3
   },
   "file_extension": ".py",
   "mimetype": "text/x-python",
   "name": "python",
   "nbconvert_exporter": "python",
   "pygments_lexer": "ipython3",
   "version": "3.9.12"
  }
 },
 "nbformat": 4,
 "nbformat_minor": 5
}
